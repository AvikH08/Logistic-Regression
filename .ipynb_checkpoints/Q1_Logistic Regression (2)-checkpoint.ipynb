{
 "cells": [
  {
   "cell_type": "markdown",
   "metadata": {
    "id": "cB-uAPFjwTac"
   },
   "source": [
    "# ***` Logistic Regression `***\n",
    "\n",
    "***` Import the Iris data which discusses about three species of flowers namely \"Setosa\",\"Verisicolor\" and \"Virginica\" Your task is to build a logistic regression model to distinguish between two  of these speicies using features like \"Sepal Length\", \"Sepal Width\", \"Petal Length\" and \"Petal Width\"`***\n",
    "\n",
    "`1)Write a sigmoid function and visualize the sigmoid function,by considering x in the range of (-10,10).`\n",
    "\n",
    "`2)Plot impact of logloss for single forecasts (You can import log_loss from sklearn.metrics). Make predictions as 0 to 1 in 0.01 increments. (For example,yhat = [x*0.01 for x in range(0, 101)]).Evaluate predictions for a 0 true value.Plot a graph between y_hat and log_loss`\n",
    "\n",
    "`3)Find the difference between minimum log loss for label 0 and label 1 [1.5 marks]`\n",
    "\n",
    "`3)Import the Iris Data, and visualize the data to an idea about it.`\n",
    "\n",
    "`4)Convert the char labels to numerical as logistic regression takes only 0's and 1's and then create new array of numerical labels.After following the procedure as mentioned in the comments , find the difference between means of sepal length of speices \"Setosa\"(label 0) and \"Versicolor\"(label 1).[1 marks]`\n",
    "\n",
    "`5)Split the data in X,y and convert them into arrays`\n",
    "\n",
    "`6)Use sklearn to split the data (**Important** Consider random_state=42 and test_size=0.2)and perform Logistic Regression`\n",
    "\n",
    "`7)Find the weights and bias and save it in a list[5 marks]`\n",
    "\n",
    "`8)Make a prediction on the test data.Find the accuracy of the prediction.[1 marks]`\n",
    "\n",
    "`9)Also predict the species of the flower whose sepal length=4.9cm\tsepal width=4cm\tpetal length=1.2cm\tpetal width=0.4cm and return the Species of the data.[1.5 marks]`\n"
   ]
  },
  {
   "cell_type": "code",
   "execution_count": 1,
   "metadata": {
    "id": "mm-qMhGZ4fA4"
   },
   "outputs": [],
   "source": [
    "# Run this cell\n",
    "# import important libraries library\n",
    "import numpy as np\n",
    "import pandas as pd\n",
    "from sklearn import datasets\n",
    "from sklearn import model_selection\n",
    "from sklearn import metrics\n",
    "import matplotlib.pyplot as plt\n",
    "import seaborn as sns\n",
    "%matplotlib inline\n",
    "ans = [None]*5"
   ]
  },
  {
   "cell_type": "markdown",
   "metadata": {
    "id": "JXXUExSDCjnl"
   },
   "source": [
    "# ***`Importing and Visualizing Data`***\n",
    "\n"
   ]
  },
  {
   "cell_type": "code",
   "execution_count": 2,
   "metadata": {
    "id": "FfmHr1_3463o"
   },
   "outputs": [],
   "source": [
    "#Sigmoid Function\n",
    "def sigmoid(x):\n",
    "    ans = 1/(1+np.exp(-x))\n",
    "    return ans"
   ]
  },
  {
   "cell_type": "code",
   "execution_count": 3,
   "metadata": {
    "id": "TJ7YufS579-a"
   },
   "outputs": [
    {
     "data": {
      "image/png": "[encoded data removed]",
      "text/plain": [
       "<Figure size 432x288 with 1 Axes>"
      ]
     },
     "metadata": {
      "needs_background": "light"
     },
     "output_type": "display_data"
    }
   ],
   "source": [
    "import random\n",
    "#Visualize sigmoid function\n",
    "#Create an array of x_val with values between -10 and 10 \n",
    "x_val = np.zeros(100)\n",
    "for i in range(100):\n",
    "    x_val[i] = random.randrange(-10, 11)\n",
    "#Find y_val, by using sigmoid function\n",
    "y_val = np.zeros(100)\n",
    "y_val = sigmoid(x_val)\n",
    "#Plot x_val,y_val and label the graph\n",
    "plt.scatter(x_val, y_val, color = 'r')\n",
    "plt.xlabel('X')\n",
    "plt.ylabel('sigmoid(X)')\n",
    "plt.show()"
   ]
  },
  {
   "cell_type": "code",
   "execution_count": 4,
   "metadata": {
    "id": "Ud5MNVfP5aay"
   },
   "outputs": [
    {
     "data": {
      "image/png": "[encoded data removed]",
      "text/plain": [
       "<Figure size 432x288 with 1 Axes>"
      ]
     },
     "metadata": {
      "needs_background": "light"
     },
     "output_type": "display_data"
    }
   ],
   "source": [
    "# plot impact of logloss for single forecasts\n",
    "from sklearn.metrics import log_loss\n",
    "# predictions as 0 to 1 in 0.01 increments\n",
    "yhat = [0.01*x for x in range(0, 101)]\n",
    "# evaluate predictions for a 0 true value\n",
    "l0 = [log_loss([0], [y], labels=[0,1]) for y in yhat]\n",
    "# evaluate predictions for a 1 true value\n",
    "l1 = [log_loss([1], [y], labels=[0,1]) for y in yhat]\n",
    "# plot input to loss\n",
    "plt.plot(yhat, l0, label='0=true value')\n",
    "plt.plot(yhat, l1, label='1=true value')\n",
    "plt.legend()\n",
    "plt.show()"
   ]
  },
  {
   "cell_type": "code",
   "execution_count": 5,
   "metadata": {
    "id": "sru3xE4T5m4S"
   },
   "outputs": [],
   "source": [
    "#Find the difference between minimum log loss for label 0 and label 1 \n",
    "ans[0]=0"
   ]
  },
  {
   "cell_type": "markdown",
   "metadata": {
    "id": "9MVaovvQDbkI"
   },
   "source": [
    "# ***`Processing the Data`***"
   ]
  },
  {
   "cell_type": "code",
   "execution_count": 36,
   "metadata": {
    "id": "2Y-Rs5FsyvwO"
   },
   "outputs": [],
   "source": [
    "#Import the dataset of iris from datasets.load_iris()\n",
    "iris = datasets.load_iris()\n",
    "X = iris.data\n",
    "y = iris.target\n",
    "data = pd.DataFrame(X)\n",
    "data['species'] = [iris.target_names[y] for y in iris.target]\n",
    "data = data.rename(columns={0:'sepal length', 1:'sepal width', 2:'petal length', 3:'petal width'})"
   ]
  },
  {
   "cell_type": "code",
   "execution_count": 37,
   "metadata": {
    "id": "5eAYcnHNy2y_"
   },
   "outputs": [
    {
     "data": {
      "text/html": [
       "<div>\n",
       "<style scoped>\n",
       "    .dataframe tbody tr th:only-of-type {\n",
       "        vertical-align: middle;\n",
       "    }\n",
       "\n",
       "    .dataframe tbody tr th {\n",
       "        vertical-align: top;\n",
       "    }\n",
       "\n",
       "    .dataframe thead th {\n",
       "        text-align: right;\n",
       "    }\n",
       "</style>\n",
       "<table border=\"1\" class=\"dataframe\">\n",
       "  <thead>\n",
       "    <tr style=\"text-align: right;\">\n",
       "      <th></th>\n",
       "      <th>sepal length</th>\n",
       "      <th>sepal width</th>\n",
       "      <th>petal length</th>\n",
       "      <th>petal width</th>\n",
       "      <th>species</th>\n",
       "    </tr>\n",
       "  </thead>\n",
       "  <tbody>\n",
       "    <tr>\n",
       "      <th>0</th>\n",
       "      <td>5.1</td>\n",
       "      <td>3.5</td>\n",
       "      <td>1.4</td>\n",
       "      <td>0.2</td>\n",
       "      <td>setosa</td>\n",
       "    </tr>\n",
       "    <tr>\n",
       "      <th>1</th>\n",
       "      <td>4.9</td>\n",
       "      <td>3.0</td>\n",
       "      <td>1.4</td>\n",
       "      <td>0.2</td>\n",
       "      <td>setosa</td>\n",
       "    </tr>\n",
       "    <tr>\n",
       "      <th>2</th>\n",
       "      <td>4.7</td>\n",
       "      <td>3.2</td>\n",
       "      <td>1.3</td>\n",
       "      <td>0.2</td>\n",
       "      <td>setosa</td>\n",
       "    </tr>\n",
       "    <tr>\n",
       "      <th>3</th>\n",
       "      <td>4.6</td>\n",
       "      <td>3.1</td>\n",
       "      <td>1.5</td>\n",
       "      <td>0.2</td>\n",
       "      <td>setosa</td>\n",
       "    </tr>\n",
       "    <tr>\n",
       "      <th>4</th>\n",
       "      <td>5.0</td>\n",
       "      <td>3.6</td>\n",
       "      <td>1.4</td>\n",
       "      <td>0.2</td>\n",
       "      <td>setosa</td>\n",
       "    </tr>\n",
       "  </tbody>\n",
       "</table>\n",
       "</div>"
      ],
      "text/plain": [
       "   sepal length  sepal width  petal length  petal width species\n",
       "0           5.1          3.5           1.4          0.2  setosa\n",
       "1           4.9          3.0           1.4          0.2  setosa\n",
       "2           4.7          3.2           1.3          0.2  setosa\n",
       "3           4.6          3.1           1.5          0.2  setosa\n",
       "4           5.0          3.6           1.4          0.2  setosa"
      ]
     },
     "execution_count": 37,
     "metadata": {},
     "output_type": "execute_result"
    }
   ],
   "source": [
    "#Look into the top 5 rows of data\n",
    "data.head(5)"
   ]
  },
  {
   "cell_type": "code",
   "execution_count": 38,
   "metadata": {
    "id": "A12q7ycCy5v9"
   },
   "outputs": [
    {
     "data": {
      "text/plain": [
       "<seaborn.axisgrid.PairGrid at 0x133f55df040>"
      ]
     },
     "execution_count": 38,
     "metadata": {},
     "output_type": "execute_result"
    },
    {
     "data": {
      "image/png": "[encoded data removed]",
      "text/plain": [
       "<Figure size 720x720 with 20 Axes>"
      ]
     },
     "metadata": {
      "needs_background": "light"
     },
     "output_type": "display_data"
    }
   ],
   "source": [
    "#Visualize  the data using seaborn pairplot\n",
    "import seaborn as sns\n",
    "sns.pairplot(data)"
   ]
  },
  {
   "cell_type": "code",
   "execution_count": 39,
   "metadata": {
    "id": "cxxsJjf65p6U"
   },
   "outputs": [
    {
     "data": {
      "text/plain": [
       "array([0, 0, 0, 0, 0, 0, 0, 0, 0, 0, 0, 0, 0, 0, 0, 0, 0, 0, 0, 0, 0, 0,\n",
       "       0, 0, 0, 0, 0, 0, 0, 0, 0, 0, 0, 0, 0, 0, 0, 0, 0, 0, 0, 0, 0, 0,\n",
       "       0, 0, 0, 0, 0, 0, 1, 1, 1, 1, 1, 1, 1, 1, 1, 1, 1, 1, 1, 1, 1, 1,\n",
       "       1, 1, 1, 1, 1, 1, 1, 1, 1, 1, 1, 1, 1, 1, 1, 1, 1, 1, 1, 1, 1, 1,\n",
       "       1, 1, 1, 1, 1, 1, 1, 1, 1, 1, 1, 1, 2, 2, 2, 2, 2, 2, 2, 2, 2, 2,\n",
       "       2, 2, 2, 2, 2, 2, 2, 2, 2, 2, 2, 2, 2, 2, 2, 2, 2, 2, 2, 2, 2, 2,\n",
       "       2, 2, 2, 2, 2, 2, 2, 2, 2, 2, 2, 2, 2, 2, 2, 2, 2, 2])"
      ]
     },
     "execution_count": 39,
     "metadata": {},
     "output_type": "execute_result"
    }
   ],
   "source": [
    "# Convert char labels into numerical \n",
    "#import LabelEncoder which returns array of encoded labels\n",
    "from sklearn.preprocessing import LabelEncoder\n",
    "labelencoder=LabelEncoder()\n",
    "# Create new array of numerical labels\n",
    "arr = labelencoder.fit_transform(data['species'])\n",
    "arr"
   ]
  },
  {
   "cell_type": "code",
   "execution_count": 42,
   "metadata": {
    "id": "BzctMiRt5xur"
   },
   "outputs": [
    {
     "data": {
      "text/html": [
       "<div>\n",
       "<style scoped>\n",
       "    .dataframe tbody tr th:only-of-type {\n",
       "        vertical-align: middle;\n",
       "    }\n",
       "\n",
       "    .dataframe tbody tr th {\n",
       "        vertical-align: top;\n",
       "    }\n",
       "\n",
       "    .dataframe thead th {\n",
       "        text-align: right;\n",
       "    }\n",
       "</style>\n",
       "<table border=\"1\" class=\"dataframe\">\n",
       "  <thead>\n",
       "    <tr style=\"text-align: right;\">\n",
       "      <th></th>\n",
       "      <th>sepal length</th>\n",
       "      <th>sepal width</th>\n",
       "      <th>petal length</th>\n",
       "      <th>petal width</th>\n",
       "      <th>species</th>\n",
       "    </tr>\n",
       "  </thead>\n",
       "  <tbody>\n",
       "    <tr>\n",
       "      <th>0</th>\n",
       "      <td>5.1</td>\n",
       "      <td>3.5</td>\n",
       "      <td>1.4</td>\n",
       "      <td>0.2</td>\n",
       "      <td>0</td>\n",
       "    </tr>\n",
       "    <tr>\n",
       "      <th>1</th>\n",
       "      <td>4.9</td>\n",
       "      <td>3.0</td>\n",
       "      <td>1.4</td>\n",
       "      <td>0.2</td>\n",
       "      <td>0</td>\n",
       "    </tr>\n",
       "    <tr>\n",
       "      <th>2</th>\n",
       "      <td>4.7</td>\n",
       "      <td>3.2</td>\n",
       "      <td>1.3</td>\n",
       "      <td>0.2</td>\n",
       "      <td>0</td>\n",
       "    </tr>\n",
       "    <tr>\n",
       "      <th>3</th>\n",
       "      <td>4.6</td>\n",
       "      <td>3.1</td>\n",
       "      <td>1.5</td>\n",
       "      <td>0.2</td>\n",
       "      <td>0</td>\n",
       "    </tr>\n",
       "    <tr>\n",
       "      <th>4</th>\n",
       "      <td>5.0</td>\n",
       "      <td>3.6</td>\n",
       "      <td>1.4</td>\n",
       "      <td>0.2</td>\n",
       "      <td>0</td>\n",
       "    </tr>\n",
       "    <tr>\n",
       "      <th>...</th>\n",
       "      <td>...</td>\n",
       "      <td>...</td>\n",
       "      <td>...</td>\n",
       "      <td>...</td>\n",
       "      <td>...</td>\n",
       "    </tr>\n",
       "    <tr>\n",
       "      <th>145</th>\n",
       "      <td>6.7</td>\n",
       "      <td>3.0</td>\n",
       "      <td>5.2</td>\n",
       "      <td>2.3</td>\n",
       "      <td>2</td>\n",
       "    </tr>\n",
       "    <tr>\n",
       "      <th>146</th>\n",
       "      <td>6.3</td>\n",
       "      <td>2.5</td>\n",
       "      <td>5.0</td>\n",
       "      <td>1.9</td>\n",
       "      <td>2</td>\n",
       "    </tr>\n",
       "    <tr>\n",
       "      <th>147</th>\n",
       "      <td>6.5</td>\n",
       "      <td>3.0</td>\n",
       "      <td>5.2</td>\n",
       "      <td>2.0</td>\n",
       "      <td>2</td>\n",
       "    </tr>\n",
       "    <tr>\n",
       "      <th>148</th>\n",
       "      <td>6.2</td>\n",
       "      <td>3.4</td>\n",
       "      <td>5.4</td>\n",
       "      <td>2.3</td>\n",
       "      <td>2</td>\n",
       "    </tr>\n",
       "    <tr>\n",
       "      <th>149</th>\n",
       "      <td>5.9</td>\n",
       "      <td>3.0</td>\n",
       "      <td>5.1</td>\n",
       "      <td>1.8</td>\n",
       "      <td>2</td>\n",
       "    </tr>\n",
       "  </tbody>\n",
       "</table>\n",
       "<p>150 rows × 5 columns</p>\n",
       "</div>"
      ],
      "text/plain": [
       "     sepal length  sepal width  petal length  petal width  species\n",
       "0             5.1          3.5           1.4          0.2        0\n",
       "1             4.9          3.0           1.4          0.2        0\n",
       "2             4.7          3.2           1.3          0.2        0\n",
       "3             4.6          3.1           1.5          0.2        0\n",
       "4             5.0          3.6           1.4          0.2        0\n",
       "..            ...          ...           ...          ...      ...\n",
       "145           6.7          3.0           5.2          2.3        2\n",
       "146           6.3          2.5           5.0          1.9        2\n",
       "147           6.5          3.0           5.2          2.0        2\n",
       "148           6.2          3.4           5.4          2.3        2\n",
       "149           5.9          3.0           5.1          1.8        2\n",
       "\n",
       "[150 rows x 5 columns]"
      ]
     },
     "execution_count": 42,
     "metadata": {},
     "output_type": "execute_result"
    }
   ],
   "source": [
    "# Drop old labels(char) data \n",
    "data.drop(columns = ['species'])\n",
    "# Substitute new labels(numerical) into data\n",
    "data['species']=arr\n",
    "data"
   ]
  },
  {
   "cell_type": "code",
   "execution_count": 50,
   "metadata": {
    "id": "5EVpJnTw-xYf"
   },
   "outputs": [],
   "source": [
    "# Logistic regression only takes the data which has labels 0 and 1, so consider only data['labels']<2\n",
    "# Considering Iris-setosa as \"0\" and Iris-versicolor as \"1\"\n",
    "sl_setosa = np.array([data.loc[i, 'sepal length'] for i in range(150) if data.loc[i, 'species'] == 0])\n",
    "msl_setosa = np.mean(sl_setosa)\n",
    "sl_versicolor = np.array([data.loc[i, 'sepal length'] for i in range(150) if data.loc[i, 'species'] == 1])\n",
    "msl_versicolor = np.mean(sl_versicolor)"
   ]
  },
  {
   "cell_type": "code",
   "execution_count": 54,
   "metadata": {
    "id": "Ay065RGxOFPU"
   },
   "outputs": [],
   "source": [
    "#Find the difference between means of sepal length of speices \"Setosa\"(label 0) and \"Versicolor\"(label 1)\n",
    "ans[1]=msl_setosa-msl_versicolor"
   ]
  },
  {
   "cell_type": "markdown",
   "metadata": {
    "id": "3-b3xRiIDkr1"
   },
   "source": [
    "# ***`Obtaining Weight Values`***"
   ]
  },
  {
   "cell_type": "code",
   "execution_count": 69,
   "metadata": {
    "id": "pRo8pY80_w5L"
   },
   "outputs": [],
   "source": [
    "# Split the data into X and y\n",
    "X = data.loc[:, data.columns != 'species']\n",
    "y = data.loc[:, data.columns == 'species']\n",
    "X = X.head(100)\n",
    "y = y.head(100)"
   ]
  },
  {
   "cell_type": "code",
   "execution_count": 70,
   "metadata": {
    "id": "kEi8Pqsr_9yo"
   },
   "outputs": [
    {
     "name": "stdout",
     "output_type": "stream",
     "text": [
      "    sepal length  sepal width  petal length  petal width\n",
      "0            5.1          3.5           1.4          0.2\n",
      "1            4.9          3.0           1.4          0.2\n",
      "2            4.7          3.2           1.3          0.2\n",
      "3            4.6          3.1           1.5          0.2\n",
      "4            5.0          3.6           1.4          0.2\n",
      "..           ...          ...           ...          ...\n",
      "95           5.7          3.0           4.2          1.2\n",
      "96           5.7          2.9           4.2          1.3\n",
      "97           6.2          2.9           4.3          1.3\n",
      "98           5.1          2.5           3.0          1.1\n",
      "99           5.7          2.8           4.1          1.3\n",
      "\n",
      "[100 rows x 4 columns]\n",
      "    species\n",
      "0         0\n",
      "1         0\n",
      "2         0\n",
      "3         0\n",
      "4         0\n",
      "..      ...\n",
      "95        1\n",
      "96        1\n",
      "97        1\n",
      "98        1\n",
      "99        1\n",
      "\n",
      "[100 rows x 1 columns]\n"
     ]
    }
   ],
   "source": [
    "# Visualize X,y\n",
    "print(X)\n",
    "print(y)"
   ]
  },
  {
   "cell_type": "code",
   "execution_count": 71,
   "metadata": {
    "id": "8E3fZvS0AC1l"
   },
   "outputs": [],
   "source": [
    "# Convert X,y into arrays\n",
    "X = np.array(X)\n",
    "y = np.array(y)"
   ]
  },
  {
   "cell_type": "code",
   "execution_count": 72,
   "metadata": {
    "id": "LtyRrzy7ALXe"
   },
   "outputs": [],
   "source": [
    "#Using sklearn to split the data\n",
    "from sklearn.model_selection import train_test_split\n",
    "#Take the test size as 0.2 and random_state as 42\n",
    "X_train, X_test, y_train, y_test = train_test_split(X, y, random_state=42, test_size=0.2)"
   ]
  },
  {
   "cell_type": "code",
   "execution_count": 96,
   "metadata": {
    "id": "7ixwU-Il2xnY"
   },
   "outputs": [
    {
     "data": {
      "text/plain": [
       "<__main__.LogisticReg at 0x133806f2080>"
      ]
     },
     "execution_count": 96,
     "metadata": {},
     "output_type": "execute_result"
    }
   ],
   "source": [
    "#Importing Necessary Libraries for Logistic Regression \n",
    "\n",
    "#Building our model\n",
    "class LogisticReg():\n",
    "    def __init__(self, learning_rate, iterations):\n",
    "        self.learning_rate = learning_rate\n",
    "        self.iterations = iterations\n",
    "    \n",
    "    def fit(self, X, Y):\n",
    "        self.X = X\n",
    "        self.Y = Y\n",
    "        self.m, self.n = X.shape\n",
    "        self.W = np.zeros(self.n)\n",
    "        self.b=0\n",
    "        \n",
    "        for i in range(self.iterations):\n",
    "            self.update_weights()\n",
    "        return self\n",
    "\n",
    "    def update_weights(self):\n",
    "        delW = np.zeros(self.n)\n",
    "        delb=0\n",
    "        for i in range(self.m):\n",
    "            t = self.Y[i]-sigmoid(np.dot(self.W, self.X[i])+self.b)\n",
    "            delW = delW + t*self.X[i]\n",
    "            delb = delb + t\n",
    "        delW = -delW/self.m\n",
    "        delb = -delb/self.m\n",
    "        self.W = self.W - self.learning_rate*delW\n",
    "        self.b = self.b - self.learning_rate*delb\n",
    "        return self\n",
    "    \n",
    "    def predict( self, X ) :    \n",
    "        Z = 1 / ( 1 + np.exp( - ( X.dot( self.W ) + self.b ) ) )        \n",
    "        Y = np.where( Z > 0.5, 1, 0 )        \n",
    "        return Y\n",
    "#Finding the parameter and bias\n",
    "model = LogisticReg(learning_rate = 0.02, iterations = 500)\n",
    "model.fit(X_train, y_train)"
   ]
  },
  {
   "cell_type": "code",
   "execution_count": 97,
   "metadata": {
    "id": "zTwvokIegTet"
   },
   "outputs": [
    {
     "name": "stdout",
     "output_type": "stream",
     "text": [
      "[-0.26725946 -1.04449282  1.60405439  0.69028669]\n",
      "[-0.1861527]\n"
     ]
    }
   ],
   "source": [
    "#Printing the parameters and bias\n",
    "print(model.W)\n",
    "print(model.b)"
   ]
  },
  {
   "cell_type": "code",
   "execution_count": 107,
   "metadata": {
    "id": "L80X7QCKGd1W"
   },
   "outputs": [
    {
     "data": {
      "text/plain": [
       "array([-0.26725946, -1.04449282,  1.60405439,  0.69028669, -0.1861527 ])"
      ]
     },
     "execution_count": 107,
     "metadata": {},
     "output_type": "execute_result"
    }
   ],
   "source": [
    "#Save parameters and bias [w1,w2,w3,w4,b] as one vector \n",
    "#i.e if the answer should be in a 1 dimensional list\n",
    "vec=np.zeros(5)\n",
    "for i in range(4):\n",
    "    vec[i] = model.W[i]\n",
    "vec[4] = model.b\n",
    "ans[2]=vec\n",
    "ans[2]"
   ]
  },
  {
   "cell_type": "code",
   "execution_count": 111,
   "metadata": {
    "id": "WT2GgltTHHr8"
   },
   "outputs": [],
   "source": [
    "#Predicitng on our test data\n",
    "y_pred = model.predict(X_test)"
   ]
  },
  {
   "cell_type": "code",
   "execution_count": 112,
   "metadata": {
    "id": "2jvas_HlXULz"
   },
   "outputs": [
    {
     "data": {
      "text/plain": [
       "1.0"
      ]
     },
     "execution_count": 112,
     "metadata": {},
     "output_type": "execute_result"
    }
   ],
   "source": [
    "#Finding the accuracy\n",
    "from sklearn.metrics import accuracy_score\n",
    "ans[3]=accuracy_score(y_test, y_pred)\n",
    "ans[3]"
   ]
  },
  {
   "cell_type": "code",
   "execution_count": 114,
   "metadata": {
    "id": "hUSE7DJyVpTE"
   },
   "outputs": [
    {
     "ename": "AttributeError",
     "evalue": "'list' object has no attribute 'dot'",
     "output_type": "error",
     "traceback": [
      "\u001b[1;31m---------------------------------------------------------------------------\u001b[0m",
      "\u001b[1;31mAttributeError\u001b[0m                            Traceback (most recent call last)",
      "Input \u001b[1;32mIn [114]\u001b[0m, in \u001b[0;36m<module>\u001b[1;34m\u001b[0m\n\u001b[0;32m      1\u001b[0m \u001b[38;5;66;03m#Predict for the input [4.9,4,1.2,0.4] , save the answer ans[4] \"Setosa\" or \"Versicolor\"\u001b[39;00m\n\u001b[1;32m----> 2\u001b[0m p \u001b[38;5;241m=\u001b[39m \u001b[43mmodel\u001b[49m\u001b[38;5;241;43m.\u001b[39;49m\u001b[43mpredict\u001b[49m\u001b[43m(\u001b[49m\u001b[43m[\u001b[49m\u001b[43m[\u001b[49m\u001b[38;5;241;43m4.9\u001b[39;49m\u001b[43m,\u001b[49m\u001b[38;5;241;43m4\u001b[39;49m\u001b[43m,\u001b[49m\u001b[38;5;241;43m1.2\u001b[39;49m\u001b[43m,\u001b[49m\u001b[38;5;241;43m0.4\u001b[39;49m\u001b[43m]\u001b[49m\u001b[43m]\u001b[49m\u001b[43m)\u001b[49m\n",
      "Input \u001b[1;32mIn [96]\u001b[0m, in \u001b[0;36mLogisticReg.predict\u001b[1;34m(self, X)\u001b[0m\n\u001b[0;32m     33\u001b[0m \u001b[38;5;28;01mdef\u001b[39;00m \u001b[38;5;21mpredict\u001b[39m( \u001b[38;5;28mself\u001b[39m, X ) :    \n\u001b[1;32m---> 34\u001b[0m     Z \u001b[38;5;241m=\u001b[39m \u001b[38;5;241m1\u001b[39m \u001b[38;5;241m/\u001b[39m ( \u001b[38;5;241m1\u001b[39m \u001b[38;5;241m+\u001b[39m np\u001b[38;5;241m.\u001b[39mexp( \u001b[38;5;241m-\u001b[39m ( \u001b[43mX\u001b[49m\u001b[38;5;241;43m.\u001b[39;49m\u001b[43mdot\u001b[49m( \u001b[38;5;28mself\u001b[39m\u001b[38;5;241m.\u001b[39mW ) \u001b[38;5;241m+\u001b[39m \u001b[38;5;28mself\u001b[39m\u001b[38;5;241m.\u001b[39mb ) ) )        \n\u001b[0;32m     35\u001b[0m     Y \u001b[38;5;241m=\u001b[39m np\u001b[38;5;241m.\u001b[39mwhere( Z \u001b[38;5;241m>\u001b[39m \u001b[38;5;241m0.5\u001b[39m, \u001b[38;5;241m1\u001b[39m, \u001b[38;5;241m0\u001b[39m )        \n\u001b[0;32m     36\u001b[0m     \u001b[38;5;28;01mreturn\u001b[39;00m Y\n",
      "\u001b[1;31mAttributeError\u001b[0m: 'list' object has no attribute 'dot'"
     ]
    }
   ],
   "source": [
    "#Predict for the input [4.9,4,1.2,0.4] , save the answer ans[4] \"Setosa\" or \"Versicolor\"\n",
    "p = model.predict([4.9,4,1.2,0.4])"
   ]
  },
  {
   "cell_type": "code",
   "execution_count": null,
   "metadata": {
    "id": "wl7bv6bq2MwR"
   },
   "outputs": [],
   "source": [
    "#The class of the input \n",
    "ans[4]="
   ]
  },
  {
   "cell_type": "code",
   "execution_count": null,
   "metadata": {
    "id": "L1b4c3rkFj_w"
   },
   "outputs": [],
   "source": [
    "# Run the this cell to submit your answers and get score evaluated\"\n",
    "# Do not make any changes in this cell\n",
    "# Simply execute it and move on\n",
    "\n",
    "ans = [item for item in ans]\n",
    "with open('ans.json', 'w') as f:\n",
    "    json.dump(ans, f)\n",
    "! ~/submit"
   ]
  }
 ],
 "metadata": {
  "colab": {
   "collapsed_sections": [],
   "name": "Assignment_Logistic Regression.ipynb",
   "provenance": []
  },
  "kernelspec": {
   "display_name": "Python 3 (ipykernel)",
   "language": "python",
   "name": "python3"
  },
  "language_info": {
   "codemirror_mode": {
    "name": "ipython",
    "version": 3
   },
   "file_extension": ".py",
   "mimetype": "text/x-python",
   "name": "python",
   "nbconvert_exporter": "python",
   "pygments_lexer": "ipython3",
   "version": "3.10.2"
  }
 },
 "nbformat": 4,
 "nbformat_minor": 1
}
